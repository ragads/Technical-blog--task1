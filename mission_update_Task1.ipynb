{
  "nbformat": 4,
  "nbformat_minor": 0,
  "metadata": {
    "colab": {
      "provenance": []
    },
    "kernelspec": {
      "name": "python3",
      "display_name": "Python 3"
    },
    "language_info": {
      "name": "python"
    }
  },
  "cells": [
    {
      "cell_type": "code",
      "execution_count": 1,
      "metadata": {
        "colab": {
          "base_uri": "https://localhost:8080/",
          "height": 17
        },
        "id": "xAVxbcL9u1lf",
        "outputId": "560c801b-c104-46a4-b7d2-4430309b2f07"
      },
      "outputs": [
        {
          "output_type": "display_data",
          "data": {
            "text/plain": [
              "<IPython.core.display.Javascript object>"
            ],
            "application/javascript": [
              "\n",
              "    async function download(id, filename, size) {\n",
              "      if (!google.colab.kernel.accessAllowed) {\n",
              "        return;\n",
              "      }\n",
              "      const div = document.createElement('div');\n",
              "      const label = document.createElement('label');\n",
              "      label.textContent = `Downloading \"${filename}\": `;\n",
              "      div.appendChild(label);\n",
              "      const progress = document.createElement('progress');\n",
              "      progress.max = size;\n",
              "      div.appendChild(progress);\n",
              "      document.body.appendChild(div);\n",
              "\n",
              "      const buffers = [];\n",
              "      let downloaded = 0;\n",
              "\n",
              "      const channel = await google.colab.kernel.comms.open(id);\n",
              "      // Send a message to notify the kernel that we're ready.\n",
              "      channel.send({})\n",
              "\n",
              "      for await (const message of channel.messages) {\n",
              "        // Send a message to notify the kernel that we're ready.\n",
              "        channel.send({})\n",
              "        if (message.buffers) {\n",
              "          for (const buffer of message.buffers) {\n",
              "            buffers.push(buffer);\n",
              "            downloaded += buffer.byteLength;\n",
              "            progress.value = downloaded;\n",
              "          }\n",
              "        }\n",
              "      }\n",
              "      const blob = new Blob(buffers, {type: 'application/binary'});\n",
              "      const a = document.createElement('a');\n",
              "      a.href = window.URL.createObjectURL(blob);\n",
              "      a.download = filename;\n",
              "      div.appendChild(a);\n",
              "      a.click();\n",
              "      div.remove();\n",
              "    }\n",
              "  "
            ]
          },
          "metadata": {}
        },
        {
          "output_type": "display_data",
          "data": {
            "text/plain": [
              "<IPython.core.display.Javascript object>"
            ],
            "application/javascript": [
              "download(\"download_f49a9024-f277-41e5-932e-8fe266aac4e0\", \"mission update.csv\", 4774)"
            ]
          },
          "metadata": {}
        }
      ],
      "source": [
        "import requests\n",
        "from bs4 import BeautifulSoup\n",
        "import pandas as pd\n",
        "from google.colab import files\n",
        "import re\n",
        "\n",
        "URL = \"https://www.isro.gov.in/Chandrayaan3.html\"\n",
        "\n",
        "HEADERS = {\n",
        "    \"User-Agent\": \"Mozilla/5.0 (Windows NT 10.0; Win64; x64) AppleWebKit/537.36 (KHTML, like Gecko) Chrome/91.0.4472.124 Safari/537.36\"\n",
        "}\n",
        "\n",
        "def scrape_data(url):\n",
        "    try:\n",
        "        response = requests.get(url, headers=HEADERS)\n",
        "        response.raise_for_status()\n",
        "        soup = BeautifulSoup(response.content, \"html.parser\")\n",
        "\n",
        "\n",
        "        all_texts = [p.text.strip() for p in soup.find_all(['p', 'div']) if p.text.strip()]\n",
        "\n",
        "        return all_texts\n",
        "    except Exception as e:\n",
        "        print(f\"Error scraping data from {url}: {e}\")\n",
        "        return []\n",
        "\n",
        "def format_scraped_data(scraped_texts):\n",
        "    formatted_data = []\n",
        "    current_date = None\n",
        "\n",
        "    for text in scraped_texts:\n",
        "\n",
        "        if re.match(r\"^[A-Za-z]+ \\d{1,2}, \\d{4}$\", text):\n",
        "            current_date = text\n",
        "        elif current_date:\n",
        "            formatted_data.append({\"Date\": current_date, \"text\": text})\n",
        "\n",
        "    return pd.DataFrame(formatted_data)\n",
        "\n",
        "\n",
        "data_list = scrape_data(URL)\n",
        "\n",
        "\n",
        "data_df = format_scraped_data(data_list)\n",
        "data_df = data_df.drop_duplicates()\n",
        "data_df = data_df.drop_duplicates().reset_index(drop=True)\n",
        "\n",
        "csv_filename = \"mission update.csv\"\n",
        "data_df.to_csv(csv_filename, index=False)\n",
        "\n",
        "\n",
        "data_df\n",
        "\n",
        "files.download(csv_filename)"
      ]
    }
  ]
}